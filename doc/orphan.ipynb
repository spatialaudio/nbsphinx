{
 "cells": [
  {
   "cell_type": "markdown",
   "metadata": {
    "nbsphinx": "hidden"
   },
   "source": [
    "This notebook is part of the `nbsphinx` documentation: https://nbsphinx.readthedocs.io/."
   ]
  },
  {
   "cell_type": "markdown",
   "metadata": {},
   "source": [
    "# An Orphan Notebook (HTML Only)\n",
    "\n",
    "This means that it doesn't appear in a [toctree](https://www.sphinx-doc.org/en/master/usage/restructuredtext/directives.html#directive-toctree) (see `index.rst`), but other pages can still link to it ...\n",
    "\n",
    "* ... from a [Markdown cell of another notebook](markdown-cells.ipynb#Links-to-Other-Notebooks) using\n",
    "\n",
    "    ```\n",
    "    [some link text](notebookname.ipynb)\n",
    "    ```\n",
    "\n",
    "* ... from a [reST page](a-normal-rst-file.rst#links-to-notebooks-and-other-sphinx-source-files) using\n",
    "\n",
    "    ```rst\n",
    "    `some link text <notebookname.ipynb>`__\n",
    "    ```\n",
    "\n",
    "Sphinx raises a warning in case of orphaned documents:\n",
    "\n",
    "    WARNING: document isn't included in any toctree\n",
    "\n",
    "If you want to avoid this warning, you can add this to the notebook's JSON metadata:\n",
    "\n",
    "```\n",
    "\"nbsphinx\": {\n",
    "  \"orphan\": true\n",
    "},\n",
    "```\n",
    "\n",
    "<div class=\"alert alert-info\">\n",
    "\n",
    "**Note:**\n",
    "\n",
    "Orphan notebooks are not included in the LaTeX output!\n",
    "\n",
    "</div>\n",
    "\n",
    "[Back to main page](index.rst)"
   ]
  }
 ],
 "metadata": {
  "kernelspec": {
   "display_name": "Python 3",
   "language": "python",
   "name": "python3"
  },
  "language_info": {
   "codemirror_mode": {
    "name": "ipython",
    "version": 3
   },
   "file_extension": ".py",
   "mimetype": "text/x-python",
   "name": "python",
   "nbconvert_exporter": "python",
   "pygments_lexer": "ipython3",
   "version": "3.6.7"
  },
  "nbsphinx": {
   "orphan": true
  }
 },
 "nbformat": 4,
 "nbformat_minor": 2
}
