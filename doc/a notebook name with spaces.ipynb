{
 "cells": [
  {
   "cell_type": "markdown",
   "metadata": {
    "nbsphinx": "hidden"
   },
   "source": [
    "This notebook is part of the `nbsphinx` documentation: https://nbsphinx.readthedocs.io/."
   ]
  },
  {
   "cell_type": "markdown",
   "metadata": {},
   "source": [
    "# A Notebook With Spaces in Its File Name\n",
    "\n",
    "File names with spaces often need special treatment,\n",
    "so it's probably better to avoid them.\n",
    "\n",
    "In Markdown links,\n",
    "the spaces have to be replaced by `%10`,\n",
    "as shown in\n",
    "[the section about links](markdown-cells.ipynb#Links-to-Other-Notebooks).\n",
    "\n",
    "This is also relevant when using the\n",
    "`nbsphinx-toctree` cell tag, as shown\n",
    "[here](subdir/toctree.ipynb)."
   ]
  }
 ],
 "metadata": {
  "kernelspec": {
   "display_name": "Python 3 (ipykernel)",
   "language": "python",
   "name": "python3"
  },
  "language_info": {
   "codemirror_mode": {
    "name": "ipython",
    "version": 3
   },
   "file_extension": ".py",
   "mimetype": "text/x-python",
   "name": "python",
   "nbconvert_exporter": "python",
   "pygments_lexer": "ipython3",
   "version": "3.11.7"
  }
 },
 "nbformat": 4,
 "nbformat_minor": 4
}
